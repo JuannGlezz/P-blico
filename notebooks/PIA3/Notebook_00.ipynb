{
 "cells": [
  {
   "cell_type": "code",
   "execution_count": 1,
   "metadata": {},
   "outputs": [
    {
     "name": "stdout",
     "output_type": "stream",
     "text": [
      "The Zen of Python, by Tim Peters\n",
      "\n",
      "Beautiful is better than ugly.\n",
      "Explicit is better than implicit.\n",
      "Simple is better than complex.\n",
      "Complex is better than complicated.\n",
      "Flat is better than nested.\n",
      "Sparse is better than dense.\n",
      "Readability counts.\n",
      "Special cases aren't special enough to break the rules.\n",
      "Although practicality beats purity.\n",
      "Errors should never pass silently.\n",
      "Unless explicitly silenced.\n",
      "In the face of ambiguity, refuse the temptation to guess.\n",
      "There should be one-- and preferably only one --obvious way to do it.\n",
      "Although that way may not be obvious at first unless you're Dutch.\n",
      "Now is better than never.\n",
      "Although never is often better than *right* now.\n",
      "If the implementation is hard to explain, it's a bad idea.\n",
      "If the implementation is easy to explain, it may be a good idea.\n",
      "Namespaces are one honking great idea -- let's do more of those!\n"
     ]
    }
   ],
   "source": [
    "import this"
   ]
  },
  {
   "cell_type": "markdown",
   "metadata": {},
   "source": [
    "# Mi Cuaderno de Python\n",
    "## Ejercicios y Prácticas\n"
   ]
  },
  {
   "cell_type": "code",
   "execution_count": 4,
   "metadata": {},
   "outputs": [
    {
     "name": "stdout",
     "output_type": "stream",
     "text": [
      "Madrid\n",
      "Barcelona\n",
      "Sevilla\n",
      "Ciudad Real\n",
      "Valladolid\n",
      "Bilbao\n",
      "Valencia\n",
      "Murcia\n",
      "Málaga\n",
      "Zaragoza\n"
     ]
    }
   ],
   "source": [
    "ciudades=[\"Madrid\",\"Barcelona\",\"Sevilla\",\"Ciudad Real\",\"Valladolid\",\"Bilbao\",\"Valencia\",\"Murcia\",\"Málaga\",\"Zaragoza\"]\n",
    "for ciudad in ciudades:\n",
    "    print(ciudad)"
   ]
  },
  {
   "cell_type": "markdown",
   "metadata": {},
   "source": [
    "**Negrita** y *Itálica*\n"
   ]
  },
  {
   "cell_type": "code",
   "execution_count": 5,
   "metadata": {},
   "outputs": [
    {
     "name": "stdout",
     "output_type": "stream",
     "text": [
      "Da Vinci\n",
      "Frida Kahlo\n",
      "Shakespeare\n",
      "Beyoncé\n",
      "Lady Gaga\n",
      "Michael Jackson\n",
      "Maya Angelou\n",
      "David Bowie\n",
      "Picasso\n",
      "Weiwei\n"
     ]
    }
   ],
   "source": [
    "artistas=[\"Da Vinci\",\"Frida Kahlo\",\"Shakespeare\",\"Beyoncé\",\"Lady Gaga\",\"Michael Jackson\",\"Maya Angelou\",\"David Bowie\",\"Picasso\",\"Weiwei\"]\n",
    "for artista in artistas:\n",
    "    print(artista)"
   ]
  },
  {
   "cell_type": "code",
   "execution_count": null,
   "metadata": {},
   "outputs": [],
   "source": [
    "Puedes obtener más información sobre Python en [python.org](https://www.python.org/).\n"
   ]
  },
  {
   "cell_type": "code",
   "execution_count": 6,
   "metadata": {},
   "outputs": [],
   "source": [
    "relacion_artistas_ciudades = {\"Shakira\": \"Barcelona\", \"Ed Sheeran\": \"Londres\", \"Beyoncé\": \"Nueva York\",\n",
    "                              \"Elton John\": \"Los Ángeles\", \"Adele\": \"París\", \"Rihanna\": \"Tokio\",\n",
    "                              \"Justin Bieber\": \"Sídney\", \"Taylor Swift\": \"Toronto\", \"Drake\": \"México DF\",\n",
    "                              \"Ariana Grande\": \"Río de Janeiro\"}"
   ]
  },
  {
   "cell_type": "markdown",
   "metadata": {},
   "source": [
    "\n",
    "![foto](Collab.png)\n"
   ]
  },
  {
   "cell_type": "code",
   "execution_count": 7,
   "metadata": {},
   "outputs": [
    {
     "name": "stdout",
     "output_type": "stream",
     "text": [
      "Estos son los conciertos para esta semana: {'Shakira': 'Barcelona', 'Ed Sheeran': 'Londres', 'Beyoncé': 'Nueva York', 'Elton John': 'Los Ángeles', 'Adele': 'París', 'Rihanna': 'Tokio', 'Justin Bieber': 'Sídney', 'Taylor Swift': 'Toronto', 'Drake': 'México DF', 'Ariana Grande': 'Río de Janeiro'}\n"
     ]
    }
   ],
   "source": [
    "print(\"Estos son los conciertos para esta semana:\", relacion_artistas_ciudades)\n"
   ]
  },
  {
   "cell_type": "code",
   "execution_count": 8,
   "metadata": {},
   "outputs": [
    {
     "name": "stdout",
     "output_type": "stream",
     "text": [
      "Estos son los conciertos para esta semana: {'Shakira': 'Tokyo', 'Ed Sheeran': 'Tokyo', 'Beyoncé': 'Tokyo', 'Elton John': 'Tokyo', 'Adele': 'Tokyo', 'Rihanna': 'Tokyo', 'Justin Bieber': 'Tokyo', 'Taylor Swift': 'Tokyo', 'Drake': 'Tokyo', 'Ariana Grande': 'Tokyo'}\n"
     ]
    }
   ],
   "source": [
    "for artista in relacion_artistas_ciudades:\n",
    "    relacion_artistas_ciudades[artista] = \"Tokyo\"\n",
    "\n",
    "print(\"Estos son los conciertos para esta semana:\", relacion_artistas_ciudades)\n"
   ]
  }
 ],
 "metadata": {
  "kernelspec": {
   "display_name": "Python 3",
   "language": "python",
   "name": "python3"
  },
  "language_info": {
   "codemirror_mode": {
    "name": "ipython",
    "version": 3
   },
   "file_extension": ".py",
   "mimetype": "text/x-python",
   "name": "python",
   "nbconvert_exporter": "python",
   "pygments_lexer": "ipython3",
   "version": "3.8.5"
  }
 },
 "nbformat": 4,
 "nbformat_minor": 4
}
